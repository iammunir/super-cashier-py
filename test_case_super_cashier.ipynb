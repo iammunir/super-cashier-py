{
 "cells": [
  {
   "cell_type": "code",
   "execution_count": 12,
   "id": "c81a830c",
   "metadata": {},
   "outputs": [],
   "source": [
    "from transaction import Transaction"
   ]
  },
  {
   "cell_type": "markdown",
   "id": "9cf380c2",
   "metadata": {},
   "source": [
    "## Test Case 1: Menambahkan Item\n",
    "\n",
    "Menambahkan dua item baru menggunakan method `add_item()`. Item yang ditambahkan sebagai berikut:\n",
    "- Nama item: Ayam Goreng, Qty: 2, Harga: 20000\n",
    "- Nama item: Pasta Gigi, Qty: 3, Harga: 15000"
   ]
  },
  {
   "cell_type": "code",
   "execution_count": 13,
   "id": "287f8b94",
   "metadata": {},
   "outputs": [
    {
     "name": "stdout",
     "output_type": "stream",
     "text": [
      "| ID    | Nama Item   |   Qty |   Harga |   Total Harga |\n",
      "|-------|-------------|-------|---------|---------------|\n",
      "| 04cde | Ayam Goreng |     2 |   20000 |         40000 |\n",
      "| 689b0 | Pasta Gigi  |     3 |   15000 |         45000 |\n"
     ]
    }
   ],
   "source": [
    "transaction = Transaction()\n",
    "\n",
    "transaction.add_item(\"Ayam Goreng\", 2, 20_000)\n",
    "transaction.add_item(\"Pasta Gigi\", 3, 15_000)\n",
    "\n",
    "transaction.print_transaction()"
   ]
  },
  {
   "cell_type": "markdown",
   "id": "61c9cd19",
   "metadata": {},
   "source": [
    "## Test Case 2: Menghapus Item\n",
    "\n",
    "Menghapus item menggunakan method `delete_item()`. Item yang dihapus adalah Pasta Gigi."
   ]
  },
  {
   "cell_type": "code",
   "execution_count": 14,
   "id": "58e35513",
   "metadata": {},
   "outputs": [
    {
     "name": "stdout",
     "output_type": "stream",
     "text": [
      "| ID    | Nama Item   |   Qty |   Harga |   Total Harga |\n",
      "|-------|-------------|-------|---------|---------------|\n",
      "| 04cde | Ayam Goreng |     2 |   20000 |         40000 |\n",
      "| 689b0 | Pasta Gigi  |     3 |   15000 |         45000 |\n"
     ]
    }
   ],
   "source": [
    "transaction.print_transaction()"
   ]
  },
  {
   "cell_type": "code",
   "execution_count": 15,
   "id": "5191f205",
   "metadata": {},
   "outputs": [
    {
     "name": "stdout",
     "output_type": "stream",
     "text": [
      "Item dengan id 689b0 berhasil dihapus\n",
      "\n",
      "| ID    | Nama Item   |   Qty |   Harga |   Total Harga |\n",
      "|-------|-------------|-------|---------|---------------|\n",
      "| 04cde | Ayam Goreng |     2 |   20000 |         40000 |\n"
     ]
    }
   ],
   "source": [
    "transaction.delete_item('689b0')\n",
    "print()\n",
    "transaction.print_transaction()"
   ]
  },
  {
   "cell_type": "markdown",
   "id": "0ffa9bbc",
   "metadata": {},
   "source": [
    "## Test Case 3: Reset Transaksi\n",
    "\n",
    "Mereset transaksi menggunakan method `reset_transaction()`."
   ]
  },
  {
   "cell_type": "code",
   "execution_count": 16,
   "id": "c9cedf00",
   "metadata": {},
   "outputs": [
    {
     "name": "stdout",
     "output_type": "stream",
     "text": [
      "| ID    | Nama Item   |   Qty |   Harga |   Total Harga |\n",
      "|-------|-------------|-------|---------|---------------|\n",
      "| 04cde | Ayam Goreng |     2 |   20000 |         40000 |\n"
     ]
    }
   ],
   "source": [
    "transaction.print_transaction()"
   ]
  },
  {
   "cell_type": "code",
   "execution_count": 17,
   "id": "63215024",
   "metadata": {},
   "outputs": [
    {
     "name": "stdout",
     "output_type": "stream",
     "text": [
      "Daftar transaksi berhasil direset\n",
      "\n",
      "Anda belum mempunyai daftar item di dalam transaksi.\n"
     ]
    }
   ],
   "source": [
    "transaction.reset_transaction()\n",
    "print()\n",
    "transaction.print_transaction()"
   ]
  },
  {
   "cell_type": "markdown",
   "id": "9bae7ab7",
   "metadata": {},
   "source": [
    "## Test Case 4: Menghitung Total Belanja\n",
    "\n",
    "Menghitung total belanja menggunakan method `total_price()`. Sebelum mengeluarkan output total belanja, akan menampilkan item-item yang dibeli."
   ]
  },
  {
   "cell_type": "code",
   "execution_count": 18,
   "id": "ae014467",
   "metadata": {},
   "outputs": [
    {
     "name": "stdout",
     "output_type": "stream",
     "text": [
      "| ID    | Nama Item   |   Qty |   Harga |   Total Harga |\n",
      "|-------|-------------|-------|---------|---------------|\n",
      "| bed26 | Ayam Goreng |     2 |   20000 |         40000 |\n",
      "| 66d8b | Pasta Gigi  |     3 |   15000 |         45000 |\n",
      "Total belanja Anda adalah Rp 85,000.\n"
     ]
    }
   ],
   "source": [
    "transaction = Transaction()\n",
    "\n",
    "transaction.add_item(\"Ayam Goreng\", 2, 20_000)\n",
    "transaction.add_item(\"Pasta Gigi\", 3, 15_000)\n",
    "\n",
    "transaction.total_price()"
   ]
  },
  {
   "cell_type": "markdown",
   "id": "f5c4ebc7",
   "metadata": {},
   "source": [
    "## Test Case 5: Mengupdate Nama Item\n",
    "Mengubah nama item yang sudah diinput ke dalam transaksi menggunakan method `update_name()`."
   ]
  },
  {
   "cell_type": "code",
   "execution_count": 20,
   "id": "d0dbe106",
   "metadata": {},
   "outputs": [
    {
     "name": "stdout",
     "output_type": "stream",
     "text": [
      "| ID    | Nama Item   |   Qty |   Harga |   Total Harga |\n",
      "|-------|-------------|-------|---------|---------------|\n",
      "| 33c21 | Bakso       |     3 |   13000 |         39000 |\n",
      "| d3802 | Kopi        |     2 |    5000 |         10000 |\n"
     ]
    }
   ],
   "source": [
    "transaction = Transaction()\n",
    "\n",
    "transaction.add_item(\"Bakso\", 3, 13_000)\n",
    "transaction.add_item(\"Kopi\", 2, 5_000)\n",
    "transaction.print_transaction()"
   ]
  },
  {
   "cell_type": "markdown",
   "id": "9e811680",
   "metadata": {},
   "source": [
    "Setelah item diinput, kita dapat mengubah nama item jika terdapat kesalahan dengan memasukkan ID item dan nama baru"
   ]
  },
  {
   "cell_type": "code",
   "execution_count": 21,
   "id": "7b4c230c",
   "metadata": {},
   "outputs": [
    {
     "name": "stdout",
     "output_type": "stream",
     "text": [
      "Nama item dengan id d3802 berhasil diupdate\n",
      "| ID    | Nama Item   |   Qty |   Harga |   Total Harga |\n",
      "|-------|-------------|-------|---------|---------------|\n",
      "| 33c21 | Bakso       |     3 |   13000 |         39000 |\n",
      "| d3802 | Kopi Susu   |     2 |    5000 |         10000 |\n"
     ]
    }
   ],
   "source": [
    "transaction.update_name(\"d3802\", \"Kopi Susu\")\n",
    "transaction.print_transaction()"
   ]
  },
  {
   "cell_type": "markdown",
   "id": "4297abef",
   "metadata": {},
   "source": [
    "## Test Case 6: Mengupdate Jumlah Item\n",
    "Mengubah jumlah item yang sudah diinput ke dalam transaksi menggunakan method `update_qty()`."
   ]
  },
  {
   "cell_type": "code",
   "execution_count": 22,
   "id": "d330543d",
   "metadata": {},
   "outputs": [
    {
     "name": "stdout",
     "output_type": "stream",
     "text": [
      "| ID    | Nama Item   |   Qty |   Harga |   Total Harga |\n",
      "|-------|-------------|-------|---------|---------------|\n",
      "| 33c21 | Bakso       |     3 |   13000 |         39000 |\n",
      "| d3802 | Kopi Susu   |     2 |    5000 |         10000 |\n"
     ]
    }
   ],
   "source": [
    "transaction.print_transaction()"
   ]
  },
  {
   "cell_type": "code",
   "execution_count": 23,
   "id": "e8269d45",
   "metadata": {},
   "outputs": [
    {
     "name": "stdout",
     "output_type": "stream",
     "text": [
      "Jumlah item dengan id 33c21 berhasil diupdate\n",
      "| ID    | Nama Item   |   Qty |   Harga |   Total Harga |\n",
      "|-------|-------------|-------|---------|---------------|\n",
      "| 33c21 | Bakso       |     2 |   13000 |         26000 |\n",
      "| d3802 | Kopi Susu   |     2 |    5000 |         10000 |\n"
     ]
    }
   ],
   "source": [
    "transaction.update_qty(\"33c21\", 2)\n",
    "transaction.print_transaction()"
   ]
  },
  {
   "cell_type": "markdown",
   "id": "fe721622",
   "metadata": {},
   "source": [
    "## Test Case 7: Mengupdate Harga Item\n",
    "Mengubah harga item yang sudah diinput ke dalam transaksi menggunakan method `update_price()`."
   ]
  },
  {
   "cell_type": "code",
   "execution_count": 24,
   "id": "9fc4e4a8",
   "metadata": {},
   "outputs": [
    {
     "name": "stdout",
     "output_type": "stream",
     "text": [
      "| ID    | Nama Item   |   Qty |   Harga |   Total Harga |\n",
      "|-------|-------------|-------|---------|---------------|\n",
      "| 33c21 | Bakso       |     2 |   13000 |         26000 |\n",
      "| d3802 | Kopi Susu   |     2 |    5000 |         10000 |\n"
     ]
    }
   ],
   "source": [
    "transaction.print_transaction()"
   ]
  },
  {
   "cell_type": "code",
   "execution_count": 26,
   "id": "695c0749",
   "metadata": {},
   "outputs": [
    {
     "name": "stdout",
     "output_type": "stream",
     "text": [
      "Harga item dengan id d3802 berhasil diupdate\n",
      "| ID    | Nama Item   |   Qty |   Harga |   Total Harga |\n",
      "|-------|-------------|-------|---------|---------------|\n",
      "| 33c21 | Bakso       |     2 |   13000 |         26000 |\n",
      "| d3802 | Kopi Susu   |     2 |    7000 |         14000 |\n"
     ]
    }
   ],
   "source": [
    "transaction.update_price(\"d3802\", 7_000)\n",
    "transaction.print_transaction()"
   ]
  },
  {
   "cell_type": "markdown",
   "id": "8871b8d5",
   "metadata": {},
   "source": [
    "## Test Case 8: Menghitung Total Belanja dan Diskon\n",
    "Menghitung total belanja menggunakan method total_price(). Sebelum mengeluarkan output total belanja, akan menampilkan item-item yang dibeli. Sistem akan menampilkan diskon dengan ketentuan\n",
    " - 5% untuk total transaksi diatas Rp. 200.000\n",
    " - 8% untuk total transaksi diatas Rp. 300.000\n",
    " - 10% untuk total transaksi diatas Rp. 500.000"
   ]
  },
  {
   "cell_type": "code",
   "execution_count": 27,
   "id": "c26348e1",
   "metadata": {},
   "outputs": [
    {
     "name": "stdout",
     "output_type": "stream",
     "text": [
      "| ID    | Nama Item   |   Qty |   Harga |   Total Harga |\n",
      "|-------|-------------|-------|---------|---------------|\n",
      "| 33c21 | Bakso       |     2 |   13000 |         26000 |\n",
      "| d3802 | Kopi Susu   |     2 |    7000 |         14000 |\n"
     ]
    }
   ],
   "source": [
    "transaction.print_transaction()"
   ]
  },
  {
   "cell_type": "code",
   "execution_count": 28,
   "id": "eaecd26a",
   "metadata": {},
   "outputs": [
    {
     "name": "stdout",
     "output_type": "stream",
     "text": [
      "| ID    | Nama Item   |   Qty |   Harga |   Total Harga |\n",
      "|-------|-------------|-------|---------|---------------|\n",
      "| 33c21 | Bakso       |     2 |   13000 |         26000 |\n",
      "| d3802 | Kopi Susu   |     2 |    7000 |         14000 |\n",
      "| eb941 | Beras       |     1 |  200000 |        200000 |\n",
      "Total Belanja Bruto Rp 240,000.\n",
      "Anda mendapatkan diskon 5% sebesar Rp 12,000.\n",
      "Total belanja Anda adalah Rp 228,000.\n"
     ]
    }
   ],
   "source": [
    "transaction.add_item(\"Beras\", 1, 200_000)\n",
    "transaction.total_price()"
   ]
  },
  {
   "cell_type": "markdown",
   "id": "0bb4aa33",
   "metadata": {},
   "source": [
    "## Test Case 9: Terdapat Kesalahan Input Saat Check Order\n",
    "Sistem akan menampilkan pesan kesalahan saat pengecekan order jika ada kesalahan input"
   ]
  },
  {
   "cell_type": "code",
   "execution_count": 29,
   "id": "88491ce0",
   "metadata": {},
   "outputs": [
    {
     "name": "stdout",
     "output_type": "stream",
     "text": [
      "| ID    | Nama Item   |   Qty |   Harga |   Total Harga |\n",
      "|-------|-------------|-------|---------|---------------|\n",
      "| 33c21 | Bakso       |     2 |   13000 |         26000 |\n",
      "| d3802 | Kopi Susu   |     2 |    7000 |         14000 |\n",
      "| eb941 | Beras       |     1 |  200000 |        200000 |\n"
     ]
    }
   ],
   "source": [
    "transaction.print_transaction()"
   ]
  },
  {
   "cell_type": "code",
   "execution_count": 30,
   "id": "ff04ac33",
   "metadata": {},
   "outputs": [
    {
     "name": "stdout",
     "output_type": "stream",
     "text": [
      "| ID    | Nama Item   |   Qty |   Harga |   Total Harga |\n",
      "|-------|-------------|-------|---------|---------------|\n",
      "| 33c21 | Bakso       |     2 |   13000 |         26000 |\n",
      "| d3802 | Kopi Susu   |     2 |    7000 |         14000 |\n",
      "| eb941 | Beras       |     1 |  200000 |        200000 |\n",
      "| dc54f | Roti Tawar  |    -2 |   13000 |        -26000 |\n"
     ]
    }
   ],
   "source": [
    "transaction.add_item(\"Roti Tawar\", -2, 13_000)\n",
    "transaction.print_transaction()"
   ]
  },
  {
   "cell_type": "code",
   "execution_count": 31,
   "id": "8b6b74e9",
   "metadata": {},
   "outputs": [
    {
     "name": "stdout",
     "output_type": "stream",
     "text": [
      "Jumlah item dengan ID dc54f tidak valid\n"
     ]
    },
    {
     "data": {
      "text/plain": [
       "False"
      ]
     },
     "execution_count": 31,
     "metadata": {},
     "output_type": "execute_result"
    }
   ],
   "source": [
    "transaction.check_order()"
   ]
  },
  {
   "cell_type": "code",
   "execution_count": null,
   "id": "64b6001f",
   "metadata": {},
   "outputs": [],
   "source": []
  }
 ],
 "metadata": {
  "kernelspec": {
   "display_name": "Python 3 (ipykernel)",
   "language": "python",
   "name": "python3"
  },
  "language_info": {
   "codemirror_mode": {
    "name": "ipython",
    "version": 3
   },
   "file_extension": ".py",
   "mimetype": "text/x-python",
   "name": "python",
   "nbconvert_exporter": "python",
   "pygments_lexer": "ipython3",
   "version": "3.9.15"
  }
 },
 "nbformat": 4,
 "nbformat_minor": 5
}
